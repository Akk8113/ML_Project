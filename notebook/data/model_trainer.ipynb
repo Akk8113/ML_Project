{
 "cells": [
  {
   "cell_type": "markdown",
   "id": "8b46efd1",
   "metadata": {},
   "source": [
    "## Model training"
   ]
  },
  {
   "cell_type": "code",
   "execution_count": 7,
   "id": "1d7a3f3f",
   "metadata": {},
   "outputs": [],
   "source": [
    "import pandas as pd\n",
    "import numpy as np\n",
    "import matplotlib.pyplot as plt\n",
    "import seaborn as sns\n",
    "\n",
    "from sklearn.model_selection import train_test_split, cross_val_score\n",
    "from sklearn.preprocessing import StandardScaler\n",
    "from sklearn.metrics import classification_report, confusion_matrix, accuracy_score\n",
    "\n",
    "from sklearn.linear_model import LogisticRegression\n",
    "from sklearn.ensemble import RandomForestClassifier, GradientBoostingClassifier\n",
    "from sklearn.svm import SVC\n",
    "from xgboost import XGBClassifier\n",
    "from sklearn.neighbors import KNeighborsClassifier\n",
    "from sklearn.naive_bayes import GaussianNB\n",
    "from sklearn.metrics import mean_squared_error, r2_score\n",
    "from sklearn.neighbors import KNeighborsRegressor\n",
    "from sklearn.tree import DecisionTreeRegressor\n",
    "from sklearn.ensemble import RandomForestRegressor,AdaBoostRegressor\n",
    "from sklearn.svm import SVR\n",
    "from sklearn.linear_model import LinearRegression, Ridge,Lasso\n",
    "from sklearn.metrics import r2_score, mean_absolute_error, mean_squared_error\n",
    "from sklearn.model_selection import RandomizedSearchCV\n",
    "from catboost import CatBoostRegressor\n",
    "from xgboost import XGBRegressor\n",
    "import warnings\n"
   ]
  },
  {
   "cell_type": "code",
   "execution_count": 5,
   "id": "6266af3e",
   "metadata": {},
   "outputs": [
    {
     "name": "stdout",
     "output_type": "stream",
     "text": [
      "Defaulting to user installation because normal site-packages is not writeable\n",
      "Collecting catboost\n",
      "  Downloading catboost-1.2.8-cp39-cp39-win_amd64.whl (102.5 MB)\n",
      "     -------------------------------------- 102.5/102.5 MB 2.3 MB/s eta 0:00:00\n",
      "Requirement already satisfied: plotly in c:\\programdata\\anaconda3\\lib\\site-packages (from catboost) (5.9.0)\n",
      "Requirement already satisfied: matplotlib in c:\\programdata\\anaconda3\\lib\\site-packages (from catboost) (3.5.2)\n",
      "Requirement already satisfied: numpy<3.0,>=1.16.0 in c:\\programdata\\anaconda3\\lib\\site-packages (from catboost) (1.21.5)\n",
      "Collecting graphviz\n",
      "  Downloading graphviz-0.20.3-py3-none-any.whl (47 kB)\n",
      "     ---------------------------------------- 47.1/47.1 kB 2.3 MB/s eta 0:00:00\n",
      "Requirement already satisfied: scipy in c:\\programdata\\anaconda3\\lib\\site-packages (from catboost) (1.9.1)\n",
      "Requirement already satisfied: pandas>=0.24 in c:\\programdata\\anaconda3\\lib\\site-packages (from catboost) (1.4.4)\n",
      "Requirement already satisfied: six in c:\\programdata\\anaconda3\\lib\\site-packages (from catboost) (1.16.0)\n",
      "Requirement already satisfied: pytz>=2020.1 in c:\\programdata\\anaconda3\\lib\\site-packages (from pandas>=0.24->catboost) (2022.1)\n",
      "Requirement already satisfied: python-dateutil>=2.8.1 in c:\\programdata\\anaconda3\\lib\\site-packages (from pandas>=0.24->catboost) (2.8.2)\n",
      "Requirement already satisfied: fonttools>=4.22.0 in c:\\programdata\\anaconda3\\lib\\site-packages (from matplotlib->catboost) (4.25.0)\n",
      "Requirement already satisfied: packaging>=20.0 in c:\\programdata\\anaconda3\\lib\\site-packages (from matplotlib->catboost) (21.3)\n",
      "Requirement already satisfied: cycler>=0.10 in c:\\programdata\\anaconda3\\lib\\site-packages (from matplotlib->catboost) (0.11.0)\n",
      "Requirement already satisfied: pyparsing>=2.2.1 in c:\\programdata\\anaconda3\\lib\\site-packages (from matplotlib->catboost) (3.0.9)\n",
      "Requirement already satisfied: kiwisolver>=1.0.1 in c:\\programdata\\anaconda3\\lib\\site-packages (from matplotlib->catboost) (1.4.2)\n",
      "Requirement already satisfied: pillow>=6.2.0 in c:\\programdata\\anaconda3\\lib\\site-packages (from matplotlib->catboost) (9.2.0)\n",
      "Requirement already satisfied: tenacity>=6.2.0 in c:\\programdata\\anaconda3\\lib\\site-packages (from plotly->catboost) (8.0.1)\n",
      "Installing collected packages: graphviz, catboost\n",
      "Successfully installed catboost-1.2.8 graphviz-0.20.3\n",
      "Note: you may need to restart the kernel to use updated packages.\n"
     ]
    }
   ],
   "source": [
    "pip install catboost"
   ]
  },
  {
   "cell_type": "code",
   "execution_count": 41,
   "id": "19d53c3d",
   "metadata": {},
   "outputs": [],
   "source": [
    "## Import the CSV Data as Pandas Dataframe\n",
    "\n",
    "wafers  = pd.read_csv(\"wafer_data.csv\")"
   ]
  },
  {
   "cell_type": "code",
   "execution_count": 42,
   "id": "c616f383",
   "metadata": {},
   "outputs": [
    {
     "data": {
      "text/html": [
       "<div>\n",
       "<style scoped>\n",
       "    .dataframe tbody tr th:only-of-type {\n",
       "        vertical-align: middle;\n",
       "    }\n",
       "\n",
       "    .dataframe tbody tr th {\n",
       "        vertical-align: top;\n",
       "    }\n",
       "\n",
       "    .dataframe thead th {\n",
       "        text-align: right;\n",
       "    }\n",
       "</style>\n",
       "<table border=\"1\" class=\"dataframe\">\n",
       "  <thead>\n",
       "    <tr style=\"text-align: right;\">\n",
       "      <th></th>\n",
       "      <th>Unnamed: 0</th>\n",
       "      <th>Sensor-1</th>\n",
       "      <th>Sensor-2</th>\n",
       "      <th>Sensor-3</th>\n",
       "      <th>Sensor-4</th>\n",
       "      <th>Sensor-5</th>\n",
       "      <th>Sensor-6</th>\n",
       "      <th>Sensor-7</th>\n",
       "      <th>Sensor-8</th>\n",
       "      <th>Sensor-9</th>\n",
       "      <th>...</th>\n",
       "      <th>Sensor-582</th>\n",
       "      <th>Sensor-583</th>\n",
       "      <th>Sensor-584</th>\n",
       "      <th>Sensor-585</th>\n",
       "      <th>Sensor-586</th>\n",
       "      <th>Sensor-587</th>\n",
       "      <th>Sensor-588</th>\n",
       "      <th>Sensor-589</th>\n",
       "      <th>Sensor-590</th>\n",
       "      <th>Good/Bad</th>\n",
       "    </tr>\n",
       "  </thead>\n",
       "  <tbody>\n",
       "    <tr>\n",
       "      <th>0</th>\n",
       "      <td>Wafer-801</td>\n",
       "      <td>2968.33</td>\n",
       "      <td>2476.58</td>\n",
       "      <td>2216.7333</td>\n",
       "      <td>1748.0885</td>\n",
       "      <td>1.1127</td>\n",
       "      <td>100.0</td>\n",
       "      <td>97.5822</td>\n",
       "      <td>0.1242</td>\n",
       "      <td>1.5300</td>\n",
       "      <td>...</td>\n",
       "      <td>NaN</td>\n",
       "      <td>0.5004</td>\n",
       "      <td>0.0120</td>\n",
       "      <td>0.0033</td>\n",
       "      <td>2.4069</td>\n",
       "      <td>0.0545</td>\n",
       "      <td>0.0184</td>\n",
       "      <td>0.0055</td>\n",
       "      <td>33.7876</td>\n",
       "      <td>-1</td>\n",
       "    </tr>\n",
       "    <tr>\n",
       "      <th>1</th>\n",
       "      <td>Wafer-802</td>\n",
       "      <td>2961.04</td>\n",
       "      <td>2506.43</td>\n",
       "      <td>2170.0666</td>\n",
       "      <td>1364.5157</td>\n",
       "      <td>1.5447</td>\n",
       "      <td>100.0</td>\n",
       "      <td>96.7700</td>\n",
       "      <td>0.1230</td>\n",
       "      <td>1.3953</td>\n",
       "      <td>...</td>\n",
       "      <td>NaN</td>\n",
       "      <td>0.4994</td>\n",
       "      <td>0.0115</td>\n",
       "      <td>0.0031</td>\n",
       "      <td>2.3020</td>\n",
       "      <td>0.0545</td>\n",
       "      <td>0.0184</td>\n",
       "      <td>0.0055</td>\n",
       "      <td>33.7876</td>\n",
       "      <td>1</td>\n",
       "    </tr>\n",
       "    <tr>\n",
       "      <th>2</th>\n",
       "      <td>Wafer-803</td>\n",
       "      <td>3072.03</td>\n",
       "      <td>2500.68</td>\n",
       "      <td>2205.7445</td>\n",
       "      <td>1363.1048</td>\n",
       "      <td>1.0518</td>\n",
       "      <td>100.0</td>\n",
       "      <td>101.8644</td>\n",
       "      <td>0.1220</td>\n",
       "      <td>1.3896</td>\n",
       "      <td>...</td>\n",
       "      <td>NaN</td>\n",
       "      <td>0.4987</td>\n",
       "      <td>0.0118</td>\n",
       "      <td>0.0036</td>\n",
       "      <td>2.3719</td>\n",
       "      <td>0.0545</td>\n",
       "      <td>0.0184</td>\n",
       "      <td>0.0055</td>\n",
       "      <td>33.7876</td>\n",
       "      <td>-1</td>\n",
       "    </tr>\n",
       "    <tr>\n",
       "      <th>3</th>\n",
       "      <td>Wafer-804</td>\n",
       "      <td>3021.83</td>\n",
       "      <td>2419.83</td>\n",
       "      <td>2205.7445</td>\n",
       "      <td>1363.1048</td>\n",
       "      <td>1.0518</td>\n",
       "      <td>100.0</td>\n",
       "      <td>101.8644</td>\n",
       "      <td>0.1220</td>\n",
       "      <td>1.4108</td>\n",
       "      <td>...</td>\n",
       "      <td>NaN</td>\n",
       "      <td>0.4934</td>\n",
       "      <td>0.0123</td>\n",
       "      <td>0.0040</td>\n",
       "      <td>2.4923</td>\n",
       "      <td>0.0545</td>\n",
       "      <td>0.0184</td>\n",
       "      <td>0.0055</td>\n",
       "      <td>33.7876</td>\n",
       "      <td>-1</td>\n",
       "    </tr>\n",
       "    <tr>\n",
       "      <th>4</th>\n",
       "      <td>Wafer-805</td>\n",
       "      <td>3006.95</td>\n",
       "      <td>2435.34</td>\n",
       "      <td>2189.8111</td>\n",
       "      <td>1084.6502</td>\n",
       "      <td>1.1993</td>\n",
       "      <td>100.0</td>\n",
       "      <td>104.8856</td>\n",
       "      <td>0.1234</td>\n",
       "      <td>1.5094</td>\n",
       "      <td>...</td>\n",
       "      <td>NaN</td>\n",
       "      <td>0.4987</td>\n",
       "      <td>0.0145</td>\n",
       "      <td>0.0041</td>\n",
       "      <td>2.8991</td>\n",
       "      <td>0.0545</td>\n",
       "      <td>0.0184</td>\n",
       "      <td>0.0055</td>\n",
       "      <td>33.7876</td>\n",
       "      <td>-1</td>\n",
       "    </tr>\n",
       "  </tbody>\n",
       "</table>\n",
       "<p>5 rows × 592 columns</p>\n",
       "</div>"
      ],
      "text/plain": [
       "  Unnamed: 0  Sensor-1  Sensor-2   Sensor-3   Sensor-4  Sensor-5  Sensor-6  \\\n",
       "0  Wafer-801   2968.33   2476.58  2216.7333  1748.0885    1.1127     100.0   \n",
       "1  Wafer-802   2961.04   2506.43  2170.0666  1364.5157    1.5447     100.0   \n",
       "2  Wafer-803   3072.03   2500.68  2205.7445  1363.1048    1.0518     100.0   \n",
       "3  Wafer-804   3021.83   2419.83  2205.7445  1363.1048    1.0518     100.0   \n",
       "4  Wafer-805   3006.95   2435.34  2189.8111  1084.6502    1.1993     100.0   \n",
       "\n",
       "   Sensor-7  Sensor-8  Sensor-9  ...  Sensor-582  Sensor-583  Sensor-584  \\\n",
       "0   97.5822    0.1242    1.5300  ...         NaN      0.5004      0.0120   \n",
       "1   96.7700    0.1230    1.3953  ...         NaN      0.4994      0.0115   \n",
       "2  101.8644    0.1220    1.3896  ...         NaN      0.4987      0.0118   \n",
       "3  101.8644    0.1220    1.4108  ...         NaN      0.4934      0.0123   \n",
       "4  104.8856    0.1234    1.5094  ...         NaN      0.4987      0.0145   \n",
       "\n",
       "   Sensor-585  Sensor-586  Sensor-587  Sensor-588  Sensor-589  Sensor-590  \\\n",
       "0      0.0033      2.4069      0.0545      0.0184      0.0055     33.7876   \n",
       "1      0.0031      2.3020      0.0545      0.0184      0.0055     33.7876   \n",
       "2      0.0036      2.3719      0.0545      0.0184      0.0055     33.7876   \n",
       "3      0.0040      2.4923      0.0545      0.0184      0.0055     33.7876   \n",
       "4      0.0041      2.8991      0.0545      0.0184      0.0055     33.7876   \n",
       "\n",
       "   Good/Bad  \n",
       "0        -1  \n",
       "1         1  \n",
       "2        -1  \n",
       "3        -1  \n",
       "4        -1  \n",
       "\n",
       "[5 rows x 592 columns]"
      ]
     },
     "execution_count": 42,
     "metadata": {},
     "output_type": "execute_result"
    }
   ],
   "source": [
    "wafers.head()"
   ]
  },
  {
   "cell_type": "code",
   "execution_count": 43,
   "id": "fc31cae8",
   "metadata": {},
   "outputs": [
    {
     "name": "stdout",
     "output_type": "stream",
     "text": [
      "First 5 rows of X (features):\n",
      "   Sensor-1  Sensor-2   Sensor-3   Sensor-4  Sensor-5  Sensor-6  Sensor-7  \\\n",
      "0   2968.33   2476.58  2216.7333  1748.0885    1.1127     100.0   97.5822   \n",
      "1   2961.04   2506.43  2170.0666  1364.5157    1.5447     100.0   96.7700   \n",
      "2   3072.03   2500.68  2205.7445  1363.1048    1.0518     100.0  101.8644   \n",
      "3   3021.83   2419.83  2205.7445  1363.1048    1.0518     100.0  101.8644   \n",
      "4   3006.95   2435.34  2189.8111  1084.6502    1.1993     100.0  104.8856   \n",
      "\n",
      "   Sensor-8  Sensor-9  Sensor-10  ...  Sensor-581  Sensor-582  Sensor-583  \\\n",
      "0    0.1242    1.5300    -0.0279  ...         NaN         NaN      0.5004   \n",
      "1    0.1230    1.3953     0.0084  ...         NaN         NaN      0.4994   \n",
      "2    0.1220    1.3896     0.0138  ...         NaN         NaN      0.4987   \n",
      "3    0.1220    1.4108    -0.0046  ...         NaN         NaN      0.4934   \n",
      "4    0.1234    1.5094    -0.0046  ...         NaN         NaN      0.4987   \n",
      "\n",
      "   Sensor-584  Sensor-585  Sensor-586  Sensor-587  Sensor-588  Sensor-589  \\\n",
      "0      0.0120      0.0033      2.4069      0.0545      0.0184      0.0055   \n",
      "1      0.0115      0.0031      2.3020      0.0545      0.0184      0.0055   \n",
      "2      0.0118      0.0036      2.3719      0.0545      0.0184      0.0055   \n",
      "3      0.0123      0.0040      2.4923      0.0545      0.0184      0.0055   \n",
      "4      0.0145      0.0041      2.8991      0.0545      0.0184      0.0055   \n",
      "\n",
      "   Sensor-590  \n",
      "0     33.7876  \n",
      "1     33.7876  \n",
      "2     33.7876  \n",
      "3     33.7876  \n",
      "4     33.7876  \n",
      "\n",
      "[5 rows x 590 columns]\n",
      "\n",
      "First 5 rows of y (target):\n",
      "0   -1\n",
      "1    1\n",
      "2   -1\n",
      "3   -1\n",
      "4   -1\n",
      "Name: Good/Bad, dtype: int64\n"
     ]
    }
   ],
   "source": [
    "X = wafers.drop(columns=['Unnamed: 0', 'Good/Bad'])\n",
    "\n",
    "# The target variable (y) is the 'Good/Bad' column\n",
    "y = wafers['Good/Bad']\n",
    "\n",
    "# Display the first few rows of X and y to verify\n",
    "print(\"First 5 rows of X (features):\")\n",
    "print(X.head())\n",
    "print(\"\\nFirst 5 rows of y (target):\")\n",
    "print(y.head())"
   ]
  },
  {
   "cell_type": "code",
   "execution_count": 44,
   "id": "fcb4c8b9",
   "metadata": {},
   "outputs": [],
   "source": [
    "X_train, X_test, y_train, y_test = train_test_split(X, y, test_size=0.2, random_state=42)\n"
   ]
  },
  {
   "cell_type": "code",
   "execution_count": 45,
   "id": "1e65a23b",
   "metadata": {},
   "outputs": [],
   "source": [
    "# Feature Scaling\n",
    "scaler = StandardScaler()\n",
    "X_train_scaled = scaler.fit_transform(X_train)\n",
    "X_test_scaled = scaler.transform(X_test)\n"
   ]
  },
  {
   "cell_type": "code",
   "execution_count": 49,
   "id": "c836200d",
   "metadata": {},
   "outputs": [
    {
     "name": "stdout",
     "output_type": "stream",
     "text": [
      "Number of NaNs after imputation: 0\n",
      "Number of infinite values after imputation: 0\n",
      "\n",
      "Shape of X_train after preprocessing: (80, 590)\n",
      "Shape of X_test after preprocessing: (20, 590)\n",
      "Shape of y_train: (80,)\n",
      "Shape of y_test: (20,)\n"
     ]
    }
   ],
   "source": [
    "# --- Preprocessing Steps to Handle NaN, Infinity, or large values ---\n",
    "\n",
    "# 1. Replace infinite values with NaN for consistent imputation\n",
    "# This step is important because SimpleImputer only handles NaNs by default.\n",
    "# It's good practice to check for and handle infinities explicitly.\n",
    "X.replace([np.inf, -np.inf], np.nan, inplace=True)\n",
    "\n",
    "# 2. Impute missing values (NaNs) using the mean strategy\n",
    "# You can choose 'mean', 'median', or 'most_frequent' based on your data distribution\n",
    "imputer = SimpleImputer(strategy='mean')\n",
    "\n",
    "# Fit the imputer on the training data and transform both training and test data\n",
    "# It's crucial to fit the imputer ONLY on the training data to prevent data leakage.\n",
    "X_imputed = imputer.fit_transform(X)\n",
    "\n",
    "# Convert the imputed NumPy array back to a DataFrame, preserving column names\n",
    "X = pd.DataFrame(X_imputed, columns=X.columns)\n",
    "\n",
    "# Verify if there are any remaining NaNs or infinities (should be none after imputation)\n",
    "print(f\"Number of NaNs after imputation: {X.isnull().sum().sum()}\")\n",
    "print(f\"Number of infinite values after imputation: {np.isinf(X).sum().sum()}\")\n",
    "\n",
    "# --- End of Preprocessing Steps ---\n",
    "\n",
    "\n",
    "# Perform the train-test split on the preprocessed data\n",
    "X_train, X_test, y_train, y_test = train_test_split(X, y, test_size=0.2, random_state=42)\n",
    "\n",
    "print(f\"\\nShape of X_train after preprocessing: {X_train.shape}\")\n",
    "print(f\"Shape of X_test after preprocessing: {X_test.shape}\")\n",
    "print(f\"Shape of y_train: {y_train.shape}\")\n",
    "print(f\"Shape of y_test: {y_test.shape}\")"
   ]
  },
  {
   "cell_type": "code",
   "execution_count": 51,
   "id": "ab8bf259",
   "metadata": {},
   "outputs": [
    {
     "name": "stdout",
     "output_type": "stream",
     "text": [
      "\n",
      "Logistic Regression Accuracy: 1.0\n"
     ]
    }
   ],
   "source": [
    "# Initialize and train the Logistic Regression model\n",
    "lr = LogisticRegression(max_iter=1000) # Increased max_iter for convergence\n",
    "lr.fit(X_train, y_train)\n",
    "\n",
    "# Make predictions on the test set\n",
    "y_pred_lr = lr.predict(X_test)\n",
    "# Evaluate the model\n",
    "print(\"\\nLogistic Regression Accuracy:\", accuracy_score(y_test, y_pred_lr))"
   ]
  },
  {
   "cell_type": "code",
   "execution_count": 52,
   "id": "e696fcf7",
   "metadata": {},
   "outputs": [
    {
     "name": "stdout",
     "output_type": "stream",
     "text": [
      "SVM Accuracy: 1.0\n"
     ]
    }
   ],
   "source": [
    "svm = SVC(kernel='rbf', probability=True)\n",
    "svm.fit(X_train, y_train)\n",
    "y_pred_svm = svm.predict(X_test)\n",
    "print(\"SVM Accuracy:\", accuracy_score(y_test, y_pred_svm))\n"
   ]
  },
  {
   "cell_type": "code",
   "execution_count": 53,
   "id": "edfb7b86",
   "metadata": {},
   "outputs": [
    {
     "name": "stdout",
     "output_type": "stream",
     "text": [
      "Random Forest Accuracy: 1.0\n"
     ]
    }
   ],
   "source": [
    "rf = RandomForestClassifier(n_estimators=100)\n",
    "rf.fit(X_train, y_train)\n",
    "y_pred_rf = rf.predict(X_test)\n",
    "print(\"Random Forest Accuracy:\", accuracy_score(y_test, y_pred_rf))\n"
   ]
  },
  {
   "cell_type": "code",
   "execution_count": 54,
   "id": "5f41094d",
   "metadata": {},
   "outputs": [
    {
     "name": "stdout",
     "output_type": "stream",
     "text": [
      "Gradient Boosting Accuracy: 1.0\n"
     ]
    }
   ],
   "source": [
    "gb = GradientBoostingClassifier()\n",
    "gb.fit(X_train, y_train)\n",
    "y_pred_gb = gb.predict(X_test)\n",
    "print(\"Gradient Boosting Accuracy:\", accuracy_score(y_test, y_pred_gb))\n"
   ]
  },
  {
   "cell_type": "code",
   "execution_count": 56,
   "id": "d2703de4",
   "metadata": {},
   "outputs": [
    {
     "name": "stdout",
     "output_type": "stream",
     "text": [
      "KNN Accuracy: 1.0\n"
     ]
    },
    {
     "name": "stderr",
     "output_type": "stream",
     "text": [
      "c:\\ProgramData\\Anaconda3\\lib\\site-packages\\sklearn\\neighbors\\_classification.py:228: FutureWarning: Unlike other reduction functions (e.g. `skew`, `kurtosis`), the default behavior of `mode` typically preserves the axis it acts along. In SciPy 1.11.0, this behavior will change: the default value of `keepdims` will become False, the `axis` over which the statistic is taken will be eliminated, and the value None will no longer be accepted. Set `keepdims` to True or False to avoid this warning.\n",
      "  mode, _ = stats.mode(_y[neigh_ind, k], axis=1)\n"
     ]
    }
   ],
   "source": [
    "knn = KNeighborsClassifier(n_neighbors=5)\n",
    "knn.fit(X_train, y_train)\n",
    "y_pred_knn = knn.predict(X_test)\n",
    "print(\"KNN Accuracy:\", accuracy_score(y_test, y_pred_knn))\n"
   ]
  },
  {
   "cell_type": "code",
   "execution_count": 57,
   "id": "302a0c46",
   "metadata": {},
   "outputs": [
    {
     "name": "stdout",
     "output_type": "stream",
     "text": [
      "Naive Bayes Accuracy: 0.95\n"
     ]
    }
   ],
   "source": [
    "nb = GaussianNB()\n",
    "nb.fit(X_train, y_train)\n",
    "y_pred_nb = nb.predict(X_test)\n",
    "print(\"Naive Bayes Accuracy:\", accuracy_score(y_test, y_pred_nb))\n"
   ]
  },
  {
   "cell_type": "code",
   "execution_count": 58,
   "id": "6bfc7c32",
   "metadata": {},
   "outputs": [
    {
     "name": "stdout",
     "output_type": "stream",
     "text": [
      "[[20]]\n",
      "              precision    recall  f1-score   support\n",
      "\n",
      "          -1       1.00      1.00      1.00        20\n",
      "\n",
      "    accuracy                           1.00        20\n",
      "   macro avg       1.00      1.00      1.00        20\n",
      "weighted avg       1.00      1.00      1.00        20\n",
      "\n"
     ]
    }
   ],
   "source": [
    "print(confusion_matrix(y_test, y_pred_rf))  # Replace with best model\n",
    "print(classification_report(y_test, y_pred_rf))\n"
   ]
  },
  {
   "cell_type": "code",
   "execution_count": 59,
   "id": "36193366",
   "metadata": {},
   "outputs": [
    {
     "name": "stdout",
     "output_type": "stream",
     "text": [
      "Random Forest Cross-validation Accuracy: 0.9400000000000001\n"
     ]
    }
   ],
   "source": [
    "scores = cross_val_score(rf, X, y, cv=5)\n",
    "print(\"Random Forest Cross-validation Accuracy:\", scores.mean())\n"
   ]
  },
  {
   "cell_type": "code",
   "execution_count": 60,
   "id": "432fb3c2",
   "metadata": {},
   "outputs": [
    {
     "data": {
      "text/plain": [
       "['best_wafer_model.pkl']"
      ]
     },
     "execution_count": 60,
     "metadata": {},
     "output_type": "execute_result"
    }
   ],
   "source": [
    "import joblib\n",
    "joblib.dump(rf, 'best_wafer_model.pkl')\n"
   ]
  },
  {
   "cell_type": "code",
   "execution_count": null,
   "id": "47930e97",
   "metadata": {},
   "outputs": [],
   "source": []
  }
 ],
 "metadata": {
  "kernelspec": {
   "display_name": "base",
   "language": "python",
   "name": "python3"
  },
  "language_info": {
   "codemirror_mode": {
    "name": "ipython",
    "version": 3
   },
   "file_extension": ".py",
   "mimetype": "text/x-python",
   "name": "python",
   "nbconvert_exporter": "python",
   "pygments_lexer": "ipython3",
   "version": "3.9.13"
  }
 },
 "nbformat": 4,
 "nbformat_minor": 5
}
